{
 "cells": [
  {
   "cell_type": "code",
   "execution_count": null,
   "metadata": {},
   "outputs": [],
   "source": [
    "while True:\n",
    "    username =input(\"输入\")\n",
    "    password =input(\"输入\")\n",
    "    if username ==\"admin\" and password ==\"123\":\n",
    "        print(\"成功\")\n",
    "        break\n",
    "    else:\n",
    "        print(\"失败\")"
   ]
  },
  {
   "cell_type": "code",
   "execution_count": 17,
   "metadata": {},
   "outputs": [],
   "source": [
    "import time\n",
    "from selenium import webdriver\n",
    "\n",
    "proxy = \"127.0.0.1:8080\"\n",
    "options = webdriver.EdgeOptions()\n",
    "# options.add_argument('--proxy-server=%s'%proxy)\n",
    "driver = webdriver.Edge(options= options)\n",
    "driver.get(\"http://y.irx999.fun/up/\")\n",
    "\n",
    "time.sleep(3)\n",
    "driver.refresh()\n",
    "\n",
    "\n",
    "js=\"window.open('{}','_blank');\"\n",
    "\n",
    "driver.execute_script(js.format('http://y.irx999.fun/up/'))\n",
    "\n"
   ]
  }
 ],
 "metadata": {
  "kernelspec": {
   "display_name": "Python 3",
   "language": "python",
   "name": "python3"
  },
  "language_info": {
   "codemirror_mode": {
    "name": "ipython",
    "version": 3
   },
   "file_extension": ".py",
   "mimetype": "text/x-python",
   "name": "python",
   "nbconvert_exporter": "python",
   "pygments_lexer": "ipython3",
   "version": "3.12.0"
  }
 },
 "nbformat": 4,
 "nbformat_minor": 2
}
